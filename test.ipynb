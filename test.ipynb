{
 "cells": [
  {
   "cell_type": "code",
   "execution_count": 9,
   "metadata": {},
   "outputs": [],
   "source": [
    "import requests\n",
    "from glob import glob\n",
    "import json\n",
    "from tqdm import tqdm"
   ]
  },
  {
   "cell_type": "code",
   "execution_count": 4,
   "metadata": {},
   "outputs": [
    {
     "data": {
      "text/plain": [
       "{'星鳳楼帖 子 [A005935-01]': 'https://iiif.dl.itc.u-tokyo.ac.jp/repo/iiif/167776/manifest',\n",
       " '星鳳楼帖 丑 [A005935-02]': 'https://iiif.dl.itc.u-tokyo.ac.jp/repo/iiif/167777/manifest',\n",
       " '星鳳楼帖 寅 [A005935-03]': 'https://iiif.dl.itc.u-tokyo.ac.jp/repo/iiif/167778/manifest',\n",
       " '星鳳楼帖 卯 [A005935-04]': 'https://iiif.dl.itc.u-tokyo.ac.jp/repo/iiif/167779/manifest',\n",
       " '星鳳楼帖 辰 [A005935-05]': 'https://iiif.dl.itc.u-tokyo.ac.jp/repo/iiif/167780/manifest',\n",
       " '星鳳楼帖 巳 [A005935-06]': 'https://iiif.dl.itc.u-tokyo.ac.jp/repo/iiif/167781/manifest',\n",
       " '星鳳楼帖 午 [A005935-07]': 'https://iiif.dl.itc.u-tokyo.ac.jp/repo/iiif/167782/manifest',\n",
       " '星鳳楼帖 未 [A005935-08]': 'https://iiif.dl.itc.u-tokyo.ac.jp/repo/iiif/167783/manifest',\n",
       " '星鳳楼帖 申 [A005935-09]': 'https://iiif.dl.itc.u-tokyo.ac.jp/repo/iiif/167784/manifest',\n",
       " '星鳳楼帖 酉 [A005935-10]': 'https://iiif.dl.itc.u-tokyo.ac.jp/repo/iiif/167785/manifest',\n",
       " '星鳳楼帖 戌 [A005935-11]': 'https://iiif.dl.itc.u-tokyo.ac.jp/repo/iiif/167786/manifest',\n",
       " '星鳳楼帖 亥 [A005935-12]': 'https://iiif.dl.itc.u-tokyo.ac.jp/repo/iiif/167787/manifest',\n",
       " '偽絳帖 一 [A005936-01]': 'https://iiif.dl.itc.u-tokyo.ac.jp/repo/iiif/167788/manifest',\n",
       " '偽絳帖 二 [A005936-02]': 'https://iiif.dl.itc.u-tokyo.ac.jp/repo/iiif/167789/manifest',\n",
       " '偽絳帖 三 [A005936-03]': 'https://iiif.dl.itc.u-tokyo.ac.jp/repo/iiif/167790/manifest',\n",
       " '偽絳帖 四 [A005936-04]': 'https://iiif.dl.itc.u-tokyo.ac.jp/repo/iiif/167791/manifest',\n",
       " '偽絳帖 五 [A005936-05]': 'https://iiif.dl.itc.u-tokyo.ac.jp/repo/iiif/167792/manifest',\n",
       " '偽絳帖 六 [A005936-06]': 'https://iiif.dl.itc.u-tokyo.ac.jp/repo/iiif/167793/manifest',\n",
       " '偽絳帖 七 [A005936-07]': 'https://iiif.dl.itc.u-tokyo.ac.jp/repo/iiif/167794/manifest',\n",
       " '偽絳帖 八 [A005936-08]': 'https://iiif.dl.itc.u-tokyo.ac.jp/repo/iiif/167795/manifest',\n",
       " '偽絳帖 九 [A005936-09]': 'https://iiif.dl.itc.u-tokyo.ac.jp/repo/iiif/167796/manifest',\n",
       " '偽絳帖 十 [A005936-10]': 'https://iiif.dl.itc.u-tokyo.ac.jp/repo/iiif/167797/manifest',\n",
       " '偽絳帖 十一 [A005936-11]': 'https://iiif.dl.itc.u-tokyo.ac.jp/repo/iiif/167798/manifest',\n",
       " '偽絳帖 十二 [A005936-12]': 'https://iiif.dl.itc.u-tokyo.ac.jp/repo/iiif/167799/manifest',\n",
       " '宣和秘閣帖 六 [A005939]': 'https://iiif.dl.itc.u-tokyo.ac.jp/repo/iiif/167800/manifest',\n",
       " '戯鴻堂法書 一[A006096-01]': 'https://iiif.dl.itc.u-tokyo.ac.jp/repo/iiif/167801/manifest',\n",
       " '戯鴻堂法書 二[A006096-02]': 'https://iiif.dl.itc.u-tokyo.ac.jp/repo/iiif/167802/manifest',\n",
       " '戯鴻堂法書 三[A006096-03]': 'https://iiif.dl.itc.u-tokyo.ac.jp/repo/iiif/167803/manifest',\n",
       " '戯鴻堂法書 四[A006096-04]': 'https://iiif.dl.itc.u-tokyo.ac.jp/repo/iiif/167804/manifest',\n",
       " '戯鴻堂法書 五[A006096-05]': 'https://iiif.dl.itc.u-tokyo.ac.jp/repo/iiif/167805/manifest',\n",
       " '戯鴻堂法書 六[A009096-06]': 'https://iiif.dl.itc.u-tokyo.ac.jp/repo/iiif/167806/manifest',\n",
       " '戯鴻堂法書 七[A006096-07]': 'https://iiif.dl.itc.u-tokyo.ac.jp/repo/iiif/167807/manifest',\n",
       " '戯鴻堂法書 八[A006096-08]': 'https://iiif.dl.itc.u-tokyo.ac.jp/repo/iiif/167808/manifest',\n",
       " '戯鴻堂法書 九[A006096-09]': 'https://iiif.dl.itc.u-tokyo.ac.jp/repo/iiif/167809/manifest',\n",
       " '戯鴻堂法書 十[A006096-10]': 'https://iiif.dl.itc.u-tokyo.ac.jp/repo/iiif/167810/manifest',\n",
       " '戯鴻堂法書 十一[A006096-11]': 'https://iiif.dl.itc.u-tokyo.ac.jp/repo/iiif/167811/manifest',\n",
       " '戯鴻堂法書 十二[A006096-12]': 'https://iiif.dl.itc.u-tokyo.ac.jp/repo/iiif/167812/manifest',\n",
       " '戯鴻堂法書 十三[A006096-13]': 'https://iiif.dl.itc.u-tokyo.ac.jp/repo/iiif/167813/manifest',\n",
       " '戯鴻堂法書 十四[A006096-14]': 'https://iiif.dl.itc.u-tokyo.ac.jp/repo/iiif/167814/manifest',\n",
       " '戯鴻堂法書 十五[A006096-15]': 'https://iiif.dl.itc.u-tokyo.ac.jp/repo/iiif/167815/manifest',\n",
       " '戯鴻堂法書 十六[A006096-16]': 'https://iiif.dl.itc.u-tokyo.ac.jp/repo/iiif/167816/manifest',\n",
       " '泉州本淳化閣帖 四 [A006099-01]': 'https://iiif.dl.itc.u-tokyo.ac.jp/repo/iiif/167817/manifest',\n",
       " '泉州本淳化閣帖 五 [A006099-02]': 'https://iiif.dl.itc.u-tokyo.ac.jp/repo/iiif/167818/manifest',\n",
       " '泉州本淳化閣帖 六 [A006099-03]': 'https://iiif.dl.itc.u-tokyo.ac.jp/repo/iiif/167819/manifest',\n",
       " '泉州本淳化閣帖 二 [A006099-04]': 'https://iiif.dl.itc.u-tokyo.ac.jp/repo/iiif/167820/manifest',\n",
       " '泉州本淳化閣帖 八 [A006099-05]': 'https://iiif.dl.itc.u-tokyo.ac.jp/repo/iiif/167821/manifest',\n",
       " '泉州本淳化閣帖 九 [A006099-06]': 'https://iiif.dl.itc.u-tokyo.ac.jp/repo/iiif/167822/manifest',\n",
       " '停雲館帖 一[A006100-01]': 'https://iiif.dl.itc.u-tokyo.ac.jp/repo/iiif/167823/manifest',\n",
       " '停雲館帖 二[A006100-02]': 'https://iiif.dl.itc.u-tokyo.ac.jp/repo/iiif/167824/manifest',\n",
       " '停雲館帖 三[A006100-03]': 'https://iiif.dl.itc.u-tokyo.ac.jp/repo/iiif/167825/manifest',\n",
       " '停雲館帖 四[A006100-04]': 'https://iiif.dl.itc.u-tokyo.ac.jp/repo/iiif/167826/manifest',\n",
       " '停雲館帖 五[A006100-05]': 'https://iiif.dl.itc.u-tokyo.ac.jp/repo/iiif/167827/manifest',\n",
       " '停雲館帖 六[A006100-06]': 'https://iiif.dl.itc.u-tokyo.ac.jp/repo/iiif/167828/manifest',\n",
       " '停雲館帖 七[A006100-07]': 'https://iiif.dl.itc.u-tokyo.ac.jp/repo/iiif/167829/manifest',\n",
       " '停雲館帖 八[A006100-08]': 'https://iiif.dl.itc.u-tokyo.ac.jp/repo/iiif/167830/manifest',\n",
       " '停雲館帖 九[A006100-09]': 'https://iiif.dl.itc.u-tokyo.ac.jp/repo/iiif/167831/manifest',\n",
       " '停雲館帖 十[A006100-10]': 'https://iiif.dl.itc.u-tokyo.ac.jp/repo/iiif/167832/manifest',\n",
       " '停雲館帖 十一[A006100-11]': 'https://iiif.dl.itc.u-tokyo.ac.jp/repo/iiif/167833/manifest',\n",
       " '停雲館帖 十二[A006100-12]': 'https://iiif.dl.itc.u-tokyo.ac.jp/repo/iiif/167834/manifest',\n",
       " '偽絳帖 十二 [A006107]': 'https://iiif.dl.itc.u-tokyo.ac.jp/repo/iiif/167835/manifest',\n",
       " '古今歴代法帖 [ASIA0002]': 'https://iiif.dl.itc.u-tokyo.ac.jp/repo/iiif/167840/manifest',\n",
       " '朴彭年草書千字文 [ASIA0003]': 'https://iiif.dl.itc.u-tokyo.ac.jp/repo/iiif/167841/manifest',\n",
       " '金麟厚草書千字文 [ASIA0004]': 'https://iiif.dl.itc.u-tokyo.ac.jp/repo/iiif/167842/manifest',\n",
       " '曹全碑 [A005603]': 'https://iiif.dl.itc.u-tokyo.ac.jp/repo/iiif/1070420/manifest',\n",
       " '集字聖教序 [A005938]': 'https://iiif.dl.itc.u-tokyo.ac.jp/repo/iiif/1070421/manifest',\n",
       " '関中本真草千字文 [A005940]': 'https://iiif.dl.itc.u-tokyo.ac.jp/repo/iiif/1070422/manifest',\n",
       " '玄秘塔碑 [A006059]': 'https://iiif.dl.itc.u-tokyo.ac.jp/repo/iiif/1070423/manifest',\n",
       " '洛神賦十三行 [A006078]': 'https://iiif.dl.itc.u-tokyo.ac.jp/repo/iiif/1070424/manifest',\n",
       " '争坐位稿 [A006082]': 'https://iiif.dl.itc.u-tokyo.ac.jp/repo/iiif/1070425/manifest',\n",
       " '拪先塋記 [A006222]': 'https://iiif.dl.itc.u-tokyo.ac.jp/repo/iiif/1070426/manifest',\n",
       " '顔氏家廟碑 [A006258]': 'https://iiif.dl.itc.u-tokyo.ac.jp/repo/iiif/1070427/manifest',\n",
       " '張遷碑 [A006261]': 'https://iiif.dl.itc.u-tokyo.ac.jp/repo/iiif/1070428/manifest',\n",
       " '曹全碑 [A006263]': 'https://iiif.dl.itc.u-tokyo.ac.jp/repo/iiif/1070429/manifest',\n",
       " '争坐位稿 [A006586]': 'https://iiif.dl.itc.u-tokyo.ac.jp/repo/iiif/1070430/manifest'}"
      ]
     },
     "execution_count": 4,
     "metadata": {},
     "output_type": "execute_result"
    }
   ],
   "source": [
    "url = \"https://iiif.dl.itc.u-tokyo.ac.jp/repo/iiif/collection/439367\"\n",
    "\n",
    "data = requests.get(url).json()\n",
    "\n",
    "manifest_mappings = {}\n",
    "\n",
    "manifests = data[\"manifests\"]\n",
    "\n",
    "for manifest in manifests:\n",
    "    manifest_id = manifest[\"@id\"]\n",
    "    label = manifest[\"label\"]\n",
    "    manifest_mappings[label] = manifest_id\n",
    "\n",
    "manifest_mappings"
   ]
  },
  {
   "cell_type": "code",
   "execution_count": 10,
   "metadata": {},
   "outputs": [
    {
     "name": "stderr",
     "output_type": "stream",
     "text": [
      "  0%|          | 0/214 [00:00<?, ?it/s]\n"
     ]
    }
   ],
   "source": [
    "files = glob(\"docs/json/*.json\")\n",
    "\n",
    "files.sort()\n",
    "\n",
    "for file in tqdm(files):\n",
    "\n",
    "    with open(file) as f:\n",
    "        data = json.load(f)\n",
    "\n",
    "    # print(data)\n",
    "\n",
    "    within = data[\"selections\"][0][\"within\"]\n",
    "\n",
    "    label = within[\"@label\"]\n",
    "    id = within[\"@id\"]\n",
    "\n",
    "    if label in manifest_mappings:\n",
    "        data[\"selections\"][0][\"within\"][\"@id\"] = manifest_mappings[label]\n",
    "\n",
    "    with open(file, \"w\") as f:\n",
    "        json.dump(data, f, ensure_ascii=False, indent=4)\n",
    "\n",
    "    # break"
   ]
  },
  {
   "cell_type": "code",
   "execution_count": null,
   "metadata": {},
   "outputs": [],
   "source": []
  }
 ],
 "metadata": {
  "kernelspec": {
   "display_name": ".venv",
   "language": "python",
   "name": "python3"
  },
  "language_info": {
   "codemirror_mode": {
    "name": "ipython",
    "version": 3
   },
   "file_extension": ".py",
   "mimetype": "text/x-python",
   "name": "python",
   "nbconvert_exporter": "python",
   "pygments_lexer": "ipython3",
   "version": "3.9.11"
  }
 },
 "nbformat": 4,
 "nbformat_minor": 2
}
